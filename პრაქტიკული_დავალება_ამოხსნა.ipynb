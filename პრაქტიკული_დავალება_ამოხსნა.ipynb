{
  "cells": [
    {
      "cell_type": "markdown",
      "id": "da538628d5bca4cd",
      "metadata": {
        "collapsed": false,
        "jupyter": {
          "outputs_hidden": false
        },
        "id": "da538628d5bca4cd"
      },
      "source": [
        "კომპანიის მიერ მოწოდებულია პაციენტების პროფილების ბაზა. ამ ბაზის საშუალებით თქვენი მიზანია მანქანური სწავლების მოდელის შექმნა, რომელიც განახორციელებს დიაგნოზის, კერძოდ კი სიმსივნის, პროგნოზირებას.\n",
        "\n",
        "თქვენი ამოცანაა დავალებასთან თანდართული მონაცემთა ფაილის ანალიზი, მოდელის შექმნა და დატრენინგებული მოდელის შეფასება."
      ]
    },
    {
      "cell_type": "markdown",
      "id": "6061512360ad3b1e",
      "metadata": {
        "collapsed": false,
        "jupyter": {
          "outputs_hidden": false
        },
        "id": "6061512360ad3b1e"
      },
      "source": [
        "## კოდების გაშვებისთვის საჭირო ბიბლიოთეკების იმპორტები"
      ]
    },
    {
      "cell_type": "code",
      "execution_count": null,
      "id": "70b6223fa77e0b78",
      "metadata": {
        "ExecuteTime": {
          "end_time": "2025-02-15T19:06:34.468762332Z",
          "start_time": "2025-02-15T19:06:34.125481858Z"
        },
        "jupyter": {
          "outputs_hidden": false
        },
        "id": "70b6223fa77e0b78"
      },
      "outputs": [],
      "source": [
        "import datetime\n",
        "from itertools import product\n",
        "\n",
        "import matplotlib.pyplot as plt\n",
        "import numpy as np\n",
        "import pandas as pd\n",
        "import seaborn as sns\n",
        "from sklearn.ensemble import RandomForestClassifier\n",
        "from sklearn.linear_model import LogisticRegression\n",
        "from sklearn.metrics import (\n",
        "    accuracy_score,\n",
        "    average_precision_score,\n",
        "    confusion_matrix,\n",
        "    f1_score,\n",
        "    precision_recall_curve,\n",
        "    precision_score,\n",
        "    recall_score,\n",
        "    roc_auc_score,\n",
        "    roc_curve,\n",
        ")\n",
        "from sklearn.model_selection import StratifiedKFold, train_test_split\n",
        "from sklearn.preprocessing import StandardScaler\n",
        "from sklearn.tree import DecisionTreeClassifier"
      ]
    },
    {
      "cell_type": "markdown",
      "id": "f2ef24fe41780877",
      "metadata": {
        "collapsed": false,
        "jupyter": {
          "outputs_hidden": false
        },
        "id": "f2ef24fe41780877"
      },
      "source": [
        "## სტილის არჩევა გრაფიკებისთვის"
      ]
    },
    {
      "cell_type": "markdown",
      "id": "4c71cb55953b06e4",
      "metadata": {
        "collapsed": false,
        "jupyter": {
          "outputs_hidden": false
        },
        "id": "4c71cb55953b06e4"
      },
      "source": [
        "# ფინალური დავალება"
      ]
    },
    {
      "cell_type": "code",
      "execution_count": null,
      "id": "413377ee3eb6819c",
      "metadata": {
        "jupyter": {
          "outputs_hidden": false
        },
        "id": "413377ee3eb6819c"
      },
      "outputs": [],
      "source": [
        "sns.set_style(\"white\")\n",
        "sns.set_palette(\"Paired\")"
      ]
    },
    {
      "cell_type": "markdown",
      "id": "9d29d8c48e86fd21",
      "metadata": {
        "collapsed": false,
        "jupyter": {
          "outputs_hidden": false
        },
        "id": "9d29d8c48e86fd21"
      },
      "source": [
        "## მონაცემთა ანალიზი"
      ]
    },
    {
      "cell_type": "markdown",
      "id": "28c098f8bda5975a",
      "metadata": {
        "collapsed": false,
        "jupyter": {
          "outputs_hidden": false
        },
        "id": "28c098f8bda5975a"
      },
      "source": [
        "ფაილი შედგება 9 სვეტისგან:\n",
        "\n",
        "* **ასაკი** - პაციენტის ასაკი წლებში\n",
        "* **ბიოლოგიური გენდერი** - პაციენტის ბიოლოგიური გენდერი. 0 მიუთითებს მამრობით სქესს და 1 მიუთითებს მდედრობითს (0=კაცი; 1=ქალი)\n",
        "* **BMI** - პაციენტის სხეულის მასის ინდექსი\n",
        "* **მწეველი** - არის თუ არა პაციენტი მწეველი. 0 მიუთითებს არამწეველს და 1 მიუთითებს მწეველს (0=არამწეველი; 1=მწეველი)\n",
        "* **გენეტიკური რისკი** - პაციენტის კიბოს გენეტიკური რისკის დონე, 0 მიუთითებს დაბალზე, 1 მიუთითებს საშუალოზე და 2 მიუთითებს მაღალზე (0=დაბალი; 1=საშუალო; 2=მაღალი)\n",
        "* **ფიზიკური აქტივობა** - პაციენტის მიერ კვირაში ფიზიკურ აქტივობებზე დახარჯული საათების რაოდენობა\n",
        "* **ალკოჰოლის მიღების დონე** - პაციენტის მიერ კვირაში მოხმარებული ალკოჰოლის ერთეულების რაოდენობა\n",
        "* **სიმსივნის ისტორია** - აქვს თუ არა პაციენტს სიმსივნის პირადი ისტორია, სადაც 0 მიუთითებს, რომ არ აქვს და 1 მიუთითებს, რომ აქვს (0=არ აქვს; 1=აქვს)\n",
        "* **დიაგნოზი** - პაციენტის სიმსივნის დიაგნოზის სტატუსი, სადაც 0 მიუთითებს სიმსივნის არარსებობაზე და 1 მიუთითებს სიმსივნეზე (0=ნეგატიური; 1=პოზიტიური)"
      ]
    },
    {
      "cell_type": "code",
      "execution_count": null,
      "id": "7af3f71853f82e11",
      "metadata": {
        "jupyter": {
          "outputs_hidden": false
        },
        "id": "7af3f71853f82e11"
      },
      "outputs": [],
      "source": [
        "df = pd.read_excel(\"./data/სიმსივნის პრედიქციის მონაცემთა ბაზა.xlsx\")\n",
        "df.head()"
      ]
    },
    {
      "cell_type": "markdown",
      "id": "92c06573113d6cf7",
      "metadata": {
        "collapsed": false,
        "jupyter": {
          "outputs_hidden": false
        },
        "id": "92c06573113d6cf7"
      },
      "source": [
        "ვნახოთ მონაცემების ზომა:"
      ]
    },
    {
      "cell_type": "code",
      "execution_count": null,
      "id": "fcbb9bed9f721d3a",
      "metadata": {
        "jupyter": {
          "outputs_hidden": false
        },
        "id": "fcbb9bed9f721d3a"
      },
      "outputs": [],
      "source": [
        "df.shape"
      ]
    },
    {
      "cell_type": "markdown",
      "id": "aecbb635afa0a0c9",
      "metadata": {
        "collapsed": false,
        "jupyter": {
          "outputs_hidden": false
        },
        "id": "aecbb635afa0a0c9"
      },
      "source": [
        "ვნახოთ მონაცემთა ტიპები:"
      ]
    },
    {
      "cell_type": "code",
      "execution_count": null,
      "id": "f80513d00900efed",
      "metadata": {
        "jupyter": {
          "outputs_hidden": false
        },
        "id": "f80513d00900efed"
      },
      "outputs": [],
      "source": [
        "df.dtypes"
      ]
    },
    {
      "cell_type": "markdown",
      "id": "3313071a99a65b3",
      "metadata": {
        "collapsed": false,
        "jupyter": {
          "outputs_hidden": false
        },
        "id": "3313071a99a65b3"
      },
      "source": [
        "ვნახოთ მარტივი აღწერითი სტატისტიკა:"
      ]
    },
    {
      "cell_type": "code",
      "execution_count": null,
      "id": "6e1ca0e50ec7d251",
      "metadata": {
        "jupyter": {
          "outputs_hidden": false
        },
        "id": "6e1ca0e50ec7d251"
      },
      "outputs": [],
      "source": [
        "df.describe()"
      ]
    },
    {
      "cell_type": "markdown",
      "id": "97813c91a6531690",
      "metadata": {
        "collapsed": false,
        "jupyter": {
          "outputs_hidden": false
        },
        "id": "97813c91a6531690"
      },
      "source": [
        "აუცილებელია დავაკვირდეთ გამოტოვებულ მონაცემებს:"
      ]
    },
    {
      "cell_type": "code",
      "execution_count": null,
      "id": "1efecd4c701438b6",
      "metadata": {
        "jupyter": {
          "outputs_hidden": false
        },
        "id": "1efecd4c701438b6"
      },
      "outputs": [],
      "source": [
        "df.info()"
      ]
    },
    {
      "cell_type": "code",
      "execution_count": null,
      "id": "b8536b68a70ded3b",
      "metadata": {
        "jupyter": {
          "outputs_hidden": false
        },
        "id": "b8536b68a70ded3b"
      },
      "outputs": [],
      "source": [
        "pd.DataFrame(\n",
        "    {\n",
        "        \"Number of missing data\": df.isna().sum(),\n",
        "        \"Percentage of missing data\": (df.isna().sum() / len(df) * 100)\n",
        "        .round(2)\n",
        "        .astype(str)\n",
        "        + \"%\",\n",
        "    },\n",
        "    index=df.columns,\n",
        ")"
      ]
    },
    {
      "cell_type": "markdown",
      "id": "f79c38c3c2dd421c",
      "metadata": {
        "collapsed": false,
        "jupyter": {
          "outputs_hidden": false
        },
        "id": "f79c38c3c2dd421c"
      },
      "source": [
        "გამოტოვებული მონაცემები არ გვაქვს."
      ]
    },
    {
      "cell_type": "markdown",
      "id": "d1a3a8893472dedc",
      "metadata": {
        "collapsed": false,
        "jupyter": {
          "outputs_hidden": false
        },
        "id": "d1a3a8893472dedc"
      },
      "source": [
        "სამიზნე ცვლადი არის **დიაგნოზი**, შესაბამისად, დავაკვირდეთ რამდენად დაბალანსირებულია:"
      ]
    },
    {
      "cell_type": "code",
      "execution_count": null,
      "id": "7a612df24ee936ed",
      "metadata": {
        "jupyter": {
          "outputs_hidden": false
        },
        "id": "7a612df24ee936ed"
      },
      "outputs": [],
      "source": [
        "df[\"დიაგნოზი\"].value_counts()"
      ]
    },
    {
      "cell_type": "code",
      "execution_count": null,
      "id": "ea5c358dab9b3c52",
      "metadata": {
        "jupyter": {
          "outputs_hidden": false
        },
        "id": "ea5c358dab9b3c52"
      },
      "outputs": [],
      "source": [
        "(df[\"დიაგნოზი\"].value_counts(normalize=True) * 100).round(2).astype(str) + \"%\""
      ]
    },
    {
      "cell_type": "code",
      "execution_count": null,
      "id": "85b28d8a-74de-41d7-9fad-ccff84a9fd58",
      "metadata": {
        "id": "85b28d8a-74de-41d7-9fad-ccff84a9fd58"
      },
      "outputs": [],
      "source": [
        "def autopct_format(values):\n",
        "    def my_format(pct):\n",
        "        total = sum(values)\n",
        "        val = int(round(pct * total / 100.0))\n",
        "        return \"{:.2f}%\\n({v:d})\".format(pct, v=val)\n",
        "\n",
        "    return my_format\n",
        "\n",
        "\n",
        "plt.figure()\n",
        "\n",
        "data_to_plot = df[\"დიაგნოზი\"].value_counts().sort_index()\n",
        "plt.pie(\n",
        "    data_to_plot,\n",
        "    labels=[\"ნეგატიური\", \"პოზიტიური\"],\n",
        "    autopct=autopct_format(data_to_plot),\n",
        "    colors=[\"lightgrey\", \"lightgreen\"],\n",
        ")\n",
        "\n",
        "plt.title(\"დიაგნოზი\")\n",
        "plt.show()"
      ]
    },
    {
      "cell_type": "markdown",
      "id": "e1e078b3e5c5a24d",
      "metadata": {
        "collapsed": false,
        "jupyter": {
          "outputs_hidden": false
        },
        "id": "e1e078b3e5c5a24d"
      },
      "source": [
        "ვნახოთ თითოეული მახასიათებლის განაწილება:"
      ]
    },
    {
      "cell_type": "code",
      "execution_count": null,
      "id": "8e59a70d16728bca",
      "metadata": {
        "jupyter": {
          "outputs_hidden": false
        },
        "id": "8e59a70d16728bca"
      },
      "outputs": [],
      "source": [
        "fig, axes = plt.subplots(4, 2, figsize=(14, 16))\n",
        "\n",
        "sns.histplot(df, x=\"ასაკი\", hue=\"დიაგნოზი\", kde=True, ax=axes[0, 0])\n",
        "sns.histplot(df, x=\"BMI\", hue=\"დიაგნოზი\", kde=True, ax=axes[0, 1])\n",
        "sns.histplot(df, x=\"ფიზიკური აქტივობა\", hue=\"დიაგნოზი\", kde=True, ax=axes[1, 0])\n",
        "sns.histplot(df, x=\"ალკოჰოლის მიღების დონე\", hue=\"დიაგნოზი\", kde=True, ax=axes[1, 1])\n",
        "\n",
        "sns.countplot(df, x=\"ბიოლოგიური გენდერი\", hue=\"დიაგნოზი\", ax=axes[2, 0])\n",
        "for container in axes[2, 0].containers:\n",
        "    axes[2, 0].bar_label(container)\n",
        "\n",
        "sns.countplot(df, x=\"მწეველი\", hue=\"დიაგნოზი\", ax=axes[2, 1])\n",
        "for container in axes[2, 1].containers:\n",
        "    axes[2, 1].bar_label(container)\n",
        "\n",
        "sns.countplot(df, x=\"გენეტიკური რისკი\", hue=\"დიაგნოზი\", ax=axes[3, 0])\n",
        "for container in axes[3, 0].containers:\n",
        "    axes[3, 0].bar_label(container)\n",
        "\n",
        "sns.countplot(df, x=\"სიმსივნის ისტორია\", hue=\"დიაგნოზი\", ax=axes[3, 1])\n",
        "for container in axes[3, 1].containers:\n",
        "    axes[3, 1].bar_label(container)\n",
        "\n",
        "plt.tight_layout()\n",
        "plt.show()"
      ]
    },
    {
      "cell_type": "markdown",
      "id": "bea0ebc6dedc1e1a",
      "metadata": {
        "collapsed": false,
        "jupyter": {
          "outputs_hidden": false
        },
        "id": "bea0ebc6dedc1e1a"
      },
      "source": [
        "დავაკვირდეთ მახასიათებლების კორელაციას:"
      ]
    },
    {
      "cell_type": "code",
      "execution_count": null,
      "id": "da49a7bcea11c830",
      "metadata": {
        "jupyter": {
          "outputs_hidden": false
        },
        "id": "da49a7bcea11c830"
      },
      "outputs": [],
      "source": [
        "plt.figure(figsize=(8, 8))\n",
        "sns.heatmap(df.corr(), annot=True, square=True, cmap=\"Blues\")\n",
        "plt.show()"
      ]
    },
    {
      "cell_type": "markdown",
      "id": "7dca8c74c2b17be4",
      "metadata": {
        "collapsed": false,
        "jupyter": {
          "outputs_hidden": false
        },
        "id": "7dca8c74c2b17be4"
      },
      "source": [
        "მონაცემების 80% გამოვიყენოთ HPO-სთვის და სატრენინგოდ, ხოლო დარჩენილი 20% სატესტოდ:"
      ]
    },
    {
      "cell_type": "code",
      "execution_count": null,
      "id": "d9941fa3e5173d5f",
      "metadata": {
        "jupyter": {
          "outputs_hidden": false
        },
        "id": "d9941fa3e5173d5f"
      },
      "outputs": [],
      "source": [
        "X_train, X_test, y_train, y_test = train_test_split(\n",
        "    df.drop(columns=[\"დიაგნოზი\"]),\n",
        "    df[\"დიაგნოზი\"],\n",
        "    test_size=0.2,\n",
        "    random_state=21,\n",
        "    stratify=df[\"დიაგნოზი\"],\n",
        ")"
      ]
    },
    {
      "cell_type": "code",
      "execution_count": null,
      "id": "3e16d7738a2bd78c",
      "metadata": {
        "jupyter": {
          "outputs_hidden": false
        },
        "id": "3e16d7738a2bd78c"
      },
      "outputs": [],
      "source": [
        "print(\"სატრენინგო მონაცემების ზომა:\", X_train.shape, y_train.shape)\n",
        "print(\"სატესტო მონაცემების ზომა:\", X_test.shape, y_test.shape)"
      ]
    },
    {
      "cell_type": "markdown",
      "id": "717a60d67135752b",
      "metadata": {
        "collapsed": false,
        "jupyter": {
          "outputs_hidden": false
        },
        "id": "717a60d67135752b"
      },
      "source": [
        "## Logistic Regression vs. Decision Tree vs. Random Forest"
      ]
    },
    {
      "cell_type": "markdown",
      "id": "3bf7046be8bb27e7",
      "metadata": {
        "collapsed": false,
        "jupyter": {
          "outputs_hidden": false
        },
        "id": "3bf7046be8bb27e7"
      },
      "source": [
        "შეფასების მეტრიკებად გამოვიყენებთ აკურატულობას, სიზუსტეს, გახსენებას, F1 ქულას, AUROC-ს და AUPRC-ს. საუკეთესო მოდელსა და მის ჰიპერპარამეტრებს ამოვარჩევთ AUROC-ის საშუალებით, რადგანაც **ზედმეტად არადაბალანსირებული სამიზნე ცვლადი არ გვაქვს**."
      ]
    },
    {
      "cell_type": "markdown",
      "id": "e864d0730c0f848",
      "metadata": {
        "collapsed": false,
        "jupyter": {
          "outputs_hidden": false
        },
        "id": "e864d0730c0f848"
      },
      "source": [
        "გავამზადოთ საჭირო ფუნქციები, რომელთაც HPO-სთვის გამოვიყენებთ:"
      ]
    },
    {
      "cell_type": "code",
      "execution_count": null,
      "id": "60ad643e7e25d9cf",
      "metadata": {
        "jupyter": {
          "outputs_hidden": false
        },
        "id": "60ad643e7e25d9cf"
      },
      "outputs": [],
      "source": [
        "def get_all_param_combinations(params_dict):\n",
        "    keys = params_dict.keys()\n",
        "    values = params_dict.values()\n",
        "\n",
        "    # ყველა კომბინაციის დაგენერირება\n",
        "    combinations = [dict(zip(keys, combination)) for combination in product(*values)]\n",
        "\n",
        "    return combinations\n",
        "\n",
        "\n",
        "def run_cv(alg, params, X, y, random_state=21):\n",
        "    accuracies = {}\n",
        "    precisions = {}\n",
        "    recalls = {}\n",
        "    f1s = {}\n",
        "    aurocs = {}\n",
        "    auprcs = {}\n",
        "\n",
        "    skf = StratifiedKFold(n_splits=3, shuffle=True, random_state=random_state)\n",
        "\n",
        "    for ind, (train_idx, valid_idx) in enumerate(skf.split(X, y)):\n",
        "        X_train, X_valid = X.iloc[train_idx].copy(), X.iloc[valid_idx].copy()\n",
        "        y_train, y_valid = y.iloc[train_idx], y.iloc[valid_idx]\n",
        "\n",
        "        # სტანდარტიზაცია სატრენინგო მონაცემების სტატისტიკით\n",
        "        scaler = StandardScaler()\n",
        "        scaler.fit(\n",
        "            X_train[[\"ასაკი\", \"BMI\", \"ფიზიკური აქტივობა\", \"ალკოჰოლის მიღების დონე\"]]\n",
        "        )\n",
        "        X_train[[\"ასაკი\", \"BMI\", \"ფიზიკური აქტივობა\", \"ალკოჰოლის მიღების დონე\"]] = (\n",
        "            scaler.transform(\n",
        "                X_train[[\"ასაკი\", \"BMI\", \"ფიზიკური აქტივობა\", \"ალკოჰოლის მიღების დონე\"]]\n",
        "            )\n",
        "        )\n",
        "        X_valid[[\"ასაკი\", \"BMI\", \"ფიზიკური აქტივობა\", \"ალკოჰოლის მიღების დონე\"]] = (\n",
        "            scaler.transform(\n",
        "                X_valid[[\"ასაკი\", \"BMI\", \"ფიზიკური აქტივობა\", \"ალკოჰოლის მიღების დონე\"]]\n",
        "            )\n",
        "        )\n",
        "\n",
        "        # მოდელის ობიექტის შექმნა\n",
        "        if alg == \"logistic_regression\":\n",
        "            clf = LogisticRegression(random_state=random_state, **params)\n",
        "        elif alg == \"decision_tree\":\n",
        "            clf = DecisionTreeClassifier(random_state=random_state, **params)\n",
        "        elif alg == \"random_forest\":\n",
        "            clf = RandomForestClassifier(random_state=random_state, **params)\n",
        "        else:\n",
        "            raise ValueError(\"Invalid algorithm\")\n",
        "\n",
        "        clf.fit(X_train, y_train)\n",
        "\n",
        "        # შეფასების მეტრიკების გამოთვლა სატრენინგო და სავალიდაციო მონაცემებზე\n",
        "        train_preds = clf.predict(X_train)\n",
        "        valid_preds = clf.predict(X_valid)\n",
        "\n",
        "        accuracies[f\"accuracy_{ind}\"] = [\n",
        "            accuracy_score(y_train, train_preds),\n",
        "            accuracy_score(y_valid, valid_preds),\n",
        "        ]\n",
        "        precisions[f\"precision_{ind}\"] = [\n",
        "            precision_score(y_train, train_preds),\n",
        "            precision_score(y_valid, valid_preds),\n",
        "        ]\n",
        "        recalls[f\"recall_{ind}\"] = [\n",
        "            recall_score(y_train, train_preds),\n",
        "            recall_score(y_valid, valid_preds),\n",
        "        ]\n",
        "        f1s[f\"f1_{ind}\"] = [\n",
        "            f1_score(y_train, train_preds),\n",
        "            f1_score(y_valid, valid_preds),\n",
        "        ]\n",
        "        aurocs[f\"auroc_{ind}\"] = [\n",
        "            roc_auc_score(y_train, clf.predict_proba(X_train)[:, 1]),\n",
        "            roc_auc_score(y_valid, clf.predict_proba(X_valid)[:, 1]),\n",
        "        ]\n",
        "        auprcs[f\"auprc_{ind}\"] = [\n",
        "            average_precision_score(y_train, clf.predict_proba(X_train)[:, 1]),\n",
        "            average_precision_score(y_valid, clf.predict_proba(X_valid)[:, 1]),\n",
        "        ]\n",
        "\n",
        "    metrics_df = pd.DataFrame(\n",
        "        dict(\n",
        "            {\"algorithm\": [alg, alg]},\n",
        "            **{\n",
        "                \"params\": [\n",
        "                    params | {\"random_state\": random_state},\n",
        "                    params | {\"random_state\": random_state},\n",
        "                ]\n",
        "            },\n",
        "            **{\"set\": [\"Training\", \"Validation\"]},\n",
        "            **accuracies,\n",
        "            **precisions,\n",
        "            **recalls,\n",
        "            **f1s,\n",
        "            **aurocs,\n",
        "            **auprcs,\n",
        "        )\n",
        "    )\n",
        "\n",
        "    return metrics_df"
      ]
    },
    {
      "cell_type": "markdown",
      "id": "76372ad793c88a49",
      "metadata": {
        "collapsed": false,
        "jupyter": {
          "outputs_hidden": false
        },
        "id": "76372ad793c88a49"
      },
      "source": [
        "ჰიპერპარამეტრების სივრცე თითოეული ალგორითმისთვის:"
      ]
    },
    {
      "cell_type": "code",
      "execution_count": null,
      "id": "2bf14d9ba081803",
      "metadata": {
        "jupyter": {
          "outputs_hidden": false
        },
        "id": "2bf14d9ba081803"
      },
      "outputs": [],
      "source": [
        "algorithms_and_params = {\n",
        "    \"logistic_regression\": {\n",
        "        \"solver\": [\"liblinear\"],\n",
        "        \"penalty\": [\"l1\", \"l2\"],\n",
        "        \"C\": [0.5, 1, 5, 10],\n",
        "    },\n",
        "    \"decision_tree\": {\n",
        "        \"max_features\": [\"log2\", \"sqrt\", None],\n",
        "        \"min_samples_leaf\": [2, 4],\n",
        "        \"max_depth\": np.arange(3, 11),\n",
        "    },\n",
        "    \"random_forest\": {\n",
        "        \"n_estimators\": np.arange(10, 60, 10),\n",
        "        \"max_features\": [\"log2\", \"sqrt\", None],\n",
        "        \"min_samples_leaf\": [2, 4],\n",
        "        \"max_depth\": np.arange(3, 11),\n",
        "    },\n",
        "}"
      ]
    },
    {
      "cell_type": "markdown",
      "id": "9af1978ed45646c7",
      "metadata": {
        "collapsed": false,
        "jupyter": {
          "outputs_hidden": false
        },
        "id": "9af1978ed45646c7"
      },
      "source": [
        "თითოეული კომბინაციით ალგორითმის ტრენინგი და შედეგების შენახვა:"
      ]
    },
    {
      "cell_type": "code",
      "execution_count": null,
      "id": "4a238b069f960e3a",
      "metadata": {
        "jupyter": {
          "outputs_hidden": false
        },
        "id": "4a238b069f960e3a"
      },
      "outputs": [],
      "source": [
        "start_time = datetime.datetime.now()\n",
        "\n",
        "metrics_dfs = []\n",
        "\n",
        "for alg, params_dict in algorithms_and_params.items():\n",
        "    params_list = get_all_param_combinations(params_dict)\n",
        "\n",
        "    for params in params_list:\n",
        "        metrics_df = run_cv(alg, params, X_train, y_train)\n",
        "        metrics_dfs.append(metrics_df)\n",
        "\n",
        "    print(f\"{alg}: HPO is done.\")\n",
        "\n",
        "finish_time = datetime.datetime.now()\n",
        "print(f\"HPO is done in {finish_time - start_time}\")"
      ]
    },
    {
      "cell_type": "markdown",
      "id": "a996148236b720d5",
      "metadata": {
        "collapsed": false,
        "jupyter": {
          "outputs_hidden": false
        },
        "id": "a996148236b720d5"
      },
      "source": [
        "შედეგების გაერთიანება ერთ ცხრილად:"
      ]
    },
    {
      "cell_type": "code",
      "execution_count": null,
      "id": "9f56cb388c5c061c",
      "metadata": {
        "jupyter": {
          "outputs_hidden": false
        },
        "id": "9f56cb388c5c061c"
      },
      "outputs": [],
      "source": [
        "master_metrics_df = pd.concat(metrics_dfs, ignore_index=True)"
      ]
    },
    {
      "cell_type": "code",
      "execution_count": null,
      "id": "67c8b8996953cebd",
      "metadata": {
        "jupyter": {
          "outputs_hidden": false
        },
        "id": "67c8b8996953cebd"
      },
      "outputs": [],
      "source": [
        "len(master_metrics_df)"
      ]
    },
    {
      "cell_type": "markdown",
      "id": "9e09906be4dde624",
      "metadata": {
        "collapsed": false,
        "jupyter": {
          "outputs_hidden": false
        },
        "id": "9e09906be4dde624"
      },
      "source": [
        "ჯამში ყველა მოდელისთვის გვქონდა ჰიპერპარამეტრების 296 კომბინაცია. რადგანაც როგორც სატრენინგო, ასევე სავალიდაციო ნაწილების შედეგებიც შევინახეთ, ამიტომ ცხრილში გვაქვს 592 ჩანაწერი."
      ]
    },
    {
      "cell_type": "markdown",
      "id": "97cabf843bbccd8f",
      "metadata": {
        "collapsed": false,
        "jupyter": {
          "outputs_hidden": false
        },
        "id": "97cabf843bbccd8f"
      },
      "source": [
        "თითოეული შეფასების მეტრიკისთვის სატრენინგო და სავალიდაციო ნაწილების საშუალო არითმეტიკულისა და სტანდარტული გადახრის გამოთვლა:"
      ]
    },
    {
      "cell_type": "code",
      "execution_count": null,
      "id": "c4a4b4eab05a0e68",
      "metadata": {
        "jupyter": {
          "outputs_hidden": false
        },
        "id": "c4a4b4eab05a0e68"
      },
      "outputs": [],
      "source": [
        "master_metrics_df[\"accuracy_avg\"] = master_metrics_df[\n",
        "    [\"accuracy_0\", \"accuracy_1\", \"accuracy_2\"]\n",
        "].mean(axis=\"columns\")\n",
        "master_metrics_df[\"accuracy_std\"] = master_metrics_df[\n",
        "    [\"accuracy_0\", \"accuracy_1\", \"accuracy_2\"]\n",
        "].std(axis=\"columns\")\n",
        "\n",
        "master_metrics_df[\"precision_avg\"] = master_metrics_df[\n",
        "    [\"precision_0\", \"precision_1\", \"precision_2\"]\n",
        "].mean(axis=\"columns\")\n",
        "master_metrics_df[\"precision_std\"] = master_metrics_df[\n",
        "    [\"precision_0\", \"precision_1\", \"precision_2\"]\n",
        "].std(axis=\"columns\")\n",
        "\n",
        "master_metrics_df[\"recall_avg\"] = master_metrics_df[\n",
        "    [\"recall_0\", \"recall_1\", \"recall_2\"]\n",
        "].mean(axis=\"columns\")\n",
        "master_metrics_df[\"recall_std\"] = master_metrics_df[\n",
        "    [\"recall_0\", \"recall_1\", \"recall_2\"]\n",
        "].std(axis=\"columns\")\n",
        "\n",
        "master_metrics_df[\"f1_avg\"] = master_metrics_df[[\"f1_0\", \"f1_1\", \"f1_2\"]].mean(\n",
        "    axis=\"columns\"\n",
        ")\n",
        "master_metrics_df[\"f1_std\"] = master_metrics_df[[\"f1_0\", \"f1_1\", \"f1_2\"]].std(\n",
        "    axis=\"columns\"\n",
        ")\n",
        "\n",
        "master_metrics_df[\"auroc_avg\"] = master_metrics_df[\n",
        "    [\"auroc_0\", \"auroc_1\", \"auroc_2\"]\n",
        "].mean(axis=\"columns\")\n",
        "master_metrics_df[\"auroc_std\"] = master_metrics_df[\n",
        "    [\"auroc_0\", \"auroc_1\", \"auroc_2\"]\n",
        "].std(axis=\"columns\")\n",
        "\n",
        "master_metrics_df[\"auprc_avg\"] = master_metrics_df[\n",
        "    [\"auprc_0\", \"auprc_1\", \"auprc_2\"]\n",
        "].mean(axis=\"columns\")\n",
        "master_metrics_df[\"auprc_std\"] = master_metrics_df[\n",
        "    [\"auprc_0\", \"auprc_1\", \"auprc_2\"]\n",
        "].std(axis=\"columns\")"
      ]
    },
    {
      "cell_type": "markdown",
      "id": "205120792b59d2a0",
      "metadata": {
        "collapsed": false,
        "jupyter": {
          "outputs_hidden": false
        },
        "id": "205120792b59d2a0"
      },
      "source": [
        "საშუალო AUROC-ზე დაყრდნობით სავალიდაციო მონაცემებში საუკეთესო ალგორითმისა და მისი ჰიპერპარამეტრების ამორჩევა:"
      ]
    },
    {
      "cell_type": "code",
      "execution_count": null,
      "id": "4730e8b24d8a383d",
      "metadata": {
        "jupyter": {
          "outputs_hidden": false
        },
        "id": "4730e8b24d8a383d"
      },
      "outputs": [],
      "source": [
        "best_params = master_metrics_df.loc[\n",
        "    master_metrics_df[master_metrics_df[\"set\"] == \"Validation\"][\"auroc_avg\"].argmax()\n",
        "][\"params\"]"
      ]
    },
    {
      "cell_type": "code",
      "execution_count": null,
      "id": "a489d8612f25b6ff",
      "metadata": {
        "jupyter": {
          "outputs_hidden": false
        },
        "id": "a489d8612f25b6ff"
      },
      "outputs": [],
      "source": [
        "master_metrics_df[master_metrics_df[\"params\"] == best_params]"
      ]
    },
    {
      "cell_type": "code",
      "execution_count": null,
      "id": "1619609fcaa8cd63",
      "metadata": {
        "jupyter": {
          "outputs_hidden": false
        },
        "id": "1619609fcaa8cd63"
      },
      "outputs": [],
      "source": [
        "best_params"
      ]
    },
    {
      "cell_type": "markdown",
      "id": "4f43a56bb5956527",
      "metadata": {
        "collapsed": false,
        "jupyter": {
          "outputs_hidden": false
        },
        "id": "4f43a56bb5956527"
      },
      "source": [
        "როგორც შედეგებიდან ჩანს, საუკეთესო მოდელია Random Forest."
      ]
    },
    {
      "cell_type": "markdown",
      "id": "b85e9e3362ff121",
      "metadata": {
        "collapsed": false,
        "jupyter": {
          "outputs_hidden": false
        },
        "id": "b85e9e3362ff121"
      },
      "source": [
        "## საბოლოო მოდელის ტრენინგი და შეფასება"
      ]
    },
    {
      "cell_type": "markdown",
      "id": "c2af1fc5421f8b32",
      "metadata": {
        "collapsed": false,
        "jupyter": {
          "outputs_hidden": false
        },
        "id": "c2af1fc5421f8b32"
      },
      "source": [
        "რა თქმა უნდა, მონაცემები მსგავსად უნდა დამუშავდეს, როგორც ჯვარედინი ვალიდაციისას მოხდა:"
      ]
    },
    {
      "cell_type": "code",
      "execution_count": null,
      "id": "8d27c9f596f0e6a4",
      "metadata": {
        "jupyter": {
          "outputs_hidden": false
        },
        "id": "8d27c9f596f0e6a4"
      },
      "outputs": [],
      "source": [
        "scaler = StandardScaler()\n",
        "scaler.fit(X_train[[\"ასაკი\", \"BMI\", \"ფიზიკური აქტივობა\", \"ალკოჰოლის მიღების დონე\"]])\n",
        "X_train[[\"ასაკი\", \"BMI\", \"ფიზიკური აქტივობა\", \"ალკოჰოლის მიღების დონე\"]] = (\n",
        "    scaler.transform(\n",
        "        X_train[[\"ასაკი\", \"BMI\", \"ფიზიკური აქტივობა\", \"ალკოჰოლის მიღების დონე\"]]\n",
        "    )\n",
        ")\n",
        "X_test[[\"ასაკი\", \"BMI\", \"ფიზიკური აქტივობა\", \"ალკოჰოლის მიღების დონე\"]] = (\n",
        "    scaler.transform(\n",
        "        X_test[[\"ასაკი\", \"BMI\", \"ფიზიკური აქტივობა\", \"ალკოჰოლის მიღების დონე\"]]\n",
        "    )\n",
        ")"
      ]
    },
    {
      "cell_type": "markdown",
      "id": "2e7aea6e8f692900",
      "metadata": {
        "collapsed": false,
        "jupyter": {
          "outputs_hidden": false
        },
        "id": "2e7aea6e8f692900"
      },
      "source": [
        "დავატრენინგოთ Random Forest საუკეთესო ჰიპერპარამეტრებით:"
      ]
    },
    {
      "cell_type": "code",
      "execution_count": null,
      "id": "6a8bd969c98609bd",
      "metadata": {
        "jupyter": {
          "outputs_hidden": false
        },
        "id": "6a8bd969c98609bd"
      },
      "outputs": [],
      "source": [
        "rf = RandomForestClassifier(**best_params)\n",
        "rf.fit(X_train, y_train)"
      ]
    },
    {
      "cell_type": "markdown",
      "id": "8d81892bcc6df872",
      "metadata": {
        "collapsed": false,
        "jupyter": {
          "outputs_hidden": false
        },
        "id": "8d81892bcc6df872"
      },
      "source": [
        "ვნახოთ მისი შეფასების მეტრიკები როგორც სატრენინგო, ასევე სატესტო მონაცემებზე:"
      ]
    },
    {
      "cell_type": "code",
      "execution_count": null,
      "id": "db3705aed917e927",
      "metadata": {
        "jupyter": {
          "outputs_hidden": false
        },
        "id": "db3705aed917e927"
      },
      "outputs": [],
      "source": [
        "train_preds = rf.predict(X_train)\n",
        "test_preds = rf.predict(X_test)\n",
        "\n",
        "metrics_df = pd.DataFrame(\n",
        "    {\n",
        "        \"accuracy\": [\n",
        "            accuracy_score(y_train, train_preds),\n",
        "            accuracy_score(y_test, test_preds),\n",
        "        ],\n",
        "        \"precision\": [\n",
        "            precision_score(y_train, train_preds),\n",
        "            precision_score(y_test, test_preds),\n",
        "        ],\n",
        "        \"recall\": [\n",
        "            recall_score(y_train, train_preds),\n",
        "            recall_score(y_test, test_preds),\n",
        "        ],\n",
        "        \"f1\": [f1_score(y_train, train_preds), f1_score(y_test, test_preds)],\n",
        "        \"auroc\": [\n",
        "            roc_auc_score(y_train, rf.predict_proba(X_train)[:, 1]),\n",
        "            roc_auc_score(y_test, rf.predict_proba(X_test)[:, 1]),\n",
        "        ],\n",
        "        \"auprc\": [\n",
        "            average_precision_score(y_train, rf.predict_proba(X_train)[:, 1]),\n",
        "            average_precision_score(y_test, rf.predict_proba(X_test)[:, 1]),\n",
        "        ],\n",
        "    },\n",
        "    index=[\"Training\", \"Test\"],\n",
        ")\n",
        "metrics_df"
      ]
    },
    {
      "cell_type": "markdown",
      "id": "9e55aff1e86b9d6f",
      "metadata": {
        "collapsed": false,
        "jupyter": {
          "outputs_hidden": false
        },
        "id": "9e55aff1e86b9d6f"
      },
      "source": [
        "დავაკვირდეთ დაბნეულობის მატრიცას სატრენინგო და სატესტო მონაცემებზე:"
      ]
    },
    {
      "cell_type": "code",
      "execution_count": null,
      "id": "48ee294b30af47dc",
      "metadata": {
        "jupyter": {
          "outputs_hidden": false
        },
        "id": "48ee294b30af47dc"
      },
      "outputs": [],
      "source": [
        "fig, (ax_1, ax_2) = plt.subplots(1, 2, figsize=(14, 7))\n",
        "\n",
        "train_cm = confusion_matrix(y_train, train_preds)\n",
        "sns.heatmap(train_cm, annot=True, cmap=\"Blues\", fmt=\"g\", square=True, ax=ax_1)\n",
        "ax_1.tick_params(axis=\"y\", labelrotation=0)\n",
        "ax_1.set_title(\"Training\")\n",
        "ax_1.set_ylabel(\"Actual Label\")\n",
        "ax_1.set_xlabel(\"Predicted Label\")\n",
        "\n",
        "\n",
        "test_cm = confusion_matrix(y_test, test_preds)\n",
        "sns.heatmap(test_cm, annot=True, cmap=\"Blues\", fmt=\"g\", square=True, ax=ax_2)\n",
        "ax_2.tick_params(axis=\"y\", labelrotation=0)\n",
        "ax_2.set_title(\"Test\")\n",
        "ax_2.set_ylabel(\"Actual Label\")\n",
        "ax_2.set_xlabel(\"Predicted Label\")\n",
        "\n",
        "plt.show()"
      ]
    },
    {
      "cell_type": "markdown",
      "id": "9b9e393b91f1194c",
      "metadata": {
        "collapsed": false,
        "jupyter": {
          "outputs_hidden": false
        },
        "id": "9b9e393b91f1194c"
      },
      "source": [
        "დავაკვირდეთ ROC მრუდს სატრენინგო და სატესტო მონაცემებზე:"
      ]
    },
    {
      "cell_type": "code",
      "execution_count": null,
      "id": "f7336449f6f5e822",
      "metadata": {
        "jupyter": {
          "outputs_hidden": false
        },
        "id": "f7336449f6f5e822"
      },
      "outputs": [],
      "source": [
        "plt.figure(figsize=(10, 6))\n",
        "\n",
        "y_train_pred_proba = rf.predict_proba(X_train)[:, 1]\n",
        "train_fpr, train_tpr, _ = roc_curve(y_train, y_train_pred_proba)\n",
        "train_auc = roc_auc_score(y_train, y_train_pred_proba)\n",
        "plt.plot(train_fpr, train_tpr, label=f\"Training (AUC={train_auc:.2f})\")\n",
        "\n",
        "y_test_pred_proba = rf.predict_proba(X_test)[:, 1]\n",
        "test_fpr, test_tpr, _ = roc_curve(y_test, y_test_pred_proba)\n",
        "test_auc = roc_auc_score(y_test, y_test_pred_proba)\n",
        "plt.plot(test_fpr, test_tpr, label=f\"Test (AUC={test_auc:.2f})\")\n",
        "\n",
        "plt.plot([0, 1], [0, 1], linestyle=\"--\", color=\"grey\", label=\"Random (AUC=0.5)\")\n",
        "\n",
        "plt.xlabel(\"False Positive Rate\")\n",
        "plt.ylabel(\"True Positive Rate\")\n",
        "plt.title(\"Receiver Operating Characteristic (ROC) Curve\")\n",
        "plt.legend(loc=\"lower right\")\n",
        "plt.show()"
      ]
    },
    {
      "cell_type": "markdown",
      "id": "1d74c13e-22ff-4293-b525-6f3cb674ee5e",
      "metadata": {
        "collapsed": false,
        "jupyter": {
          "outputs_hidden": false
        },
        "id": "1d74c13e-22ff-4293-b525-6f3cb674ee5e"
      },
      "source": [
        "დავაკვირდეთ PR მრუდს სატრენინგო და სატესტო მონაცემებზე:"
      ]
    },
    {
      "cell_type": "code",
      "execution_count": null,
      "id": "53a893f4",
      "metadata": {
        "jupyter": {
          "outputs_hidden": false
        },
        "id": "53a893f4"
      },
      "outputs": [],
      "source": [
        "plt.figure(figsize=(10, 6))\n",
        "\n",
        "y_train_pred_proba = rf.predict_proba(X_train)[:, 1]\n",
        "train_precision, train_recall, _ = precision_recall_curve(y_train, y_train_pred_proba)\n",
        "train_auc = average_precision_score(y_train, y_train_pred_proba)\n",
        "plt.plot(train_recall, train_precision, label=f\"Training (AUC={train_auc:.2f})\")\n",
        "\n",
        "y_test_pred_proba = rf.predict_proba(X_test)[:, 1]\n",
        "test_precision, test_recall, _ = precision_recall_curve(y_test, y_test_pred_proba)\n",
        "test_auc = average_precision_score(y_test, y_test_pred_proba)\n",
        "plt.plot(test_recall, test_precision, label=f\"Test (AUC={test_auc:.2f})\")\n",
        "\n",
        "plt.xlabel(\"Recall\")\n",
        "plt.ylabel(\"Precision\")\n",
        "plt.title(\"Precision-Recall (PR) Curve\")\n",
        "plt.legend(loc=\"lower left\")\n",
        "plt.show()"
      ]
    }
  ],
  "metadata": {
    "kernelspec": {
      "display_name": "Python 3 (ipykernel)",
      "language": "python",
      "name": "python3"
    },
    "language_info": {
      "codemirror_mode": {
        "name": "ipython",
        "version": 3
      },
      "file_extension": ".py",
      "mimetype": "text/x-python",
      "name": "python",
      "nbconvert_exporter": "python",
      "pygments_lexer": "ipython3",
      "version": "3.12.1"
    },
    "colab": {
      "provenance": []
    }
  },
  "nbformat": 4,
  "nbformat_minor": 5
}